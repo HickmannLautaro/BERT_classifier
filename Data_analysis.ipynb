{
 "cells": [
  {
   "cell_type": "code",
   "execution_count": 1,
   "metadata": {},
   "outputs": [],
   "source": [
    "import pandas as pd\n",
    "import matplotlib.pyplot as plt\n",
    "import numpy as np"
   ]
  },
  {
   "cell_type": "code",
   "execution_count": 2,
   "metadata": {},
   "outputs": [
    {
     "data": {
      "text/html": [
       "<div>\n",
       "<style scoped>\n",
       "    .dataframe tbody tr th:only-of-type {\n",
       "        vertical-align: middle;\n",
       "    }\n",
       "\n",
       "    .dataframe tbody tr th {\n",
       "        vertical-align: top;\n",
       "    }\n",
       "\n",
       "    .dataframe thead th {\n",
       "        text-align: right;\n",
       "    }\n",
       "</style>\n",
       "<table border=\"1\" class=\"dataframe\">\n",
       "  <thead>\n",
       "    <tr style=\"text-align: right;\">\n",
       "      <th></th>\n",
       "      <th>productId</th>\n",
       "      <th>Title</th>\n",
       "      <th>userId</th>\n",
       "      <th>Helpfulness</th>\n",
       "      <th>Score</th>\n",
       "      <th>Time</th>\n",
       "      <th>Text</th>\n",
       "      <th>Cat1</th>\n",
       "      <th>Cat2</th>\n",
       "      <th>Cat3</th>\n",
       "    </tr>\n",
       "  </thead>\n",
       "  <tbody>\n",
       "    <tr>\n",
       "      <th>0</th>\n",
       "      <td>B000E46LYG</td>\n",
       "      <td>Golden Valley Natural Buffalo Jerky</td>\n",
       "      <td>A3MQDNGHDJU4MK</td>\n",
       "      <td>0/0</td>\n",
       "      <td>3.0</td>\n",
       "      <td>-1</td>\n",
       "      <td>The description and photo on this product need...</td>\n",
       "      <td>grocery gourmet food</td>\n",
       "      <td>meat poultry</td>\n",
       "      <td>jerky</td>\n",
       "    </tr>\n",
       "    <tr>\n",
       "      <th>1</th>\n",
       "      <td>B000GRA6N8</td>\n",
       "      <td>Westing Game</td>\n",
       "      <td>unknown</td>\n",
       "      <td>0/0</td>\n",
       "      <td>5.0</td>\n",
       "      <td>860630400</td>\n",
       "      <td>This was a great book!!!! It is well thought t...</td>\n",
       "      <td>toys games</td>\n",
       "      <td>games</td>\n",
       "      <td>unknown</td>\n",
       "    </tr>\n",
       "    <tr>\n",
       "      <th>2</th>\n",
       "      <td>B000GRA6N8</td>\n",
       "      <td>Westing Game</td>\n",
       "      <td>unknown</td>\n",
       "      <td>0/0</td>\n",
       "      <td>5.0</td>\n",
       "      <td>883008000</td>\n",
       "      <td>I am a first year teacher, teaching 5th grade....</td>\n",
       "      <td>toys games</td>\n",
       "      <td>games</td>\n",
       "      <td>unknown</td>\n",
       "    </tr>\n",
       "    <tr>\n",
       "      <th>3</th>\n",
       "      <td>B000GRA6N8</td>\n",
       "      <td>Westing Game</td>\n",
       "      <td>unknown</td>\n",
       "      <td>0/0</td>\n",
       "      <td>5.0</td>\n",
       "      <td>897696000</td>\n",
       "      <td>I got the book at my bookfair at school lookin...</td>\n",
       "      <td>toys games</td>\n",
       "      <td>games</td>\n",
       "      <td>unknown</td>\n",
       "    </tr>\n",
       "    <tr>\n",
       "      <th>4</th>\n",
       "      <td>B00000DMDQ</td>\n",
       "      <td>I SPY A is For Jigsaw Puzzle 63pc</td>\n",
       "      <td>unknown</td>\n",
       "      <td>2/4</td>\n",
       "      <td>5.0</td>\n",
       "      <td>911865600</td>\n",
       "      <td>Hi! I'm Martine Redman and I created this puzz...</td>\n",
       "      <td>toys games</td>\n",
       "      <td>puzzles</td>\n",
       "      <td>jigsaw puzzles</td>\n",
       "    </tr>\n",
       "  </tbody>\n",
       "</table>\n",
       "</div>"
      ],
      "text/plain": [
       "    productId                                Title          userId  \\\n",
       "0  B000E46LYG  Golden Valley Natural Buffalo Jerky  A3MQDNGHDJU4MK   \n",
       "1  B000GRA6N8                         Westing Game         unknown   \n",
       "2  B000GRA6N8                         Westing Game         unknown   \n",
       "3  B000GRA6N8                         Westing Game         unknown   \n",
       "4  B00000DMDQ    I SPY A is For Jigsaw Puzzle 63pc         unknown   \n",
       "\n",
       "  Helpfulness  Score       Time  \\\n",
       "0         0/0    3.0         -1   \n",
       "1         0/0    5.0  860630400   \n",
       "2         0/0    5.0  883008000   \n",
       "3         0/0    5.0  897696000   \n",
       "4         2/4    5.0  911865600   \n",
       "\n",
       "                                                Text                  Cat1  \\\n",
       "0  The description and photo on this product need...  grocery gourmet food   \n",
       "1  This was a great book!!!! It is well thought t...            toys games   \n",
       "2  I am a first year teacher, teaching 5th grade....            toys games   \n",
       "3  I got the book at my bookfair at school lookin...            toys games   \n",
       "4  Hi! I'm Martine Redman and I created this puzz...            toys games   \n",
       "\n",
       "           Cat2            Cat3  \n",
       "0  meat poultry           jerky  \n",
       "1         games         unknown  \n",
       "2         games         unknown  \n",
       "3         games         unknown  \n",
       "4       puzzles  jigsaw puzzles  "
      ]
     },
     "execution_count": 2,
     "metadata": {},
     "output_type": "execute_result"
    }
   ],
   "source": [
    "data = pd.read_csv(\"amazon/train.csv\")\n",
    "\n",
    "data.head()"
   ]
  },
  {
   "cell_type": "code",
   "execution_count": 3,
   "metadata": {},
   "outputs": [],
   "source": [
    "def plot_histo(column):\n",
    "    text_len=data[column].str.len()\n",
    "    plt.hist(text_len, bins = text_len.max())\n",
    "    plt.xlabel(\"Token length\")\n",
    "    plt.ylabel(\"Amount\")\n",
    "    plt.title(\"Token lenght for {}: \\n Minimal: {} \\n Maximal: {} \\n Average: {:.2f}\".format(column, text_len.min(), text_len.max(), text_len.mean()))\n",
    "\n",
    "def plot_histo_targets(column):\n",
    "    plt.hist(data[column].str.replace(' ', '\\n '), bins = len(pd.Categorical(data[column]).categories)*2, align=\"left\");    \n",
    "    plt.xlabel(\"Label\")\n",
    "    plt.ylabel(\"Amount of appearances\")\n",
    "    name, count = np.unique(data[column], return_index=False, return_inverse=False, return_counts=True, axis=None)\n",
    "    plt.title(\"Amount of appearances for {}: \\n Minimal: {} appears {} times \\n Maximal: {} appears {} times\".format(column, name[count.argmin()], count.min(), name[count.argmax()], count.max()))\n",
    "def get_info(column):\n",
    "    name, count = np.unique(data[column], return_index=False, return_inverse=False, return_counts=True, axis=None)\n",
    "    print(\"Amount of appearances for {}: \\n * unique values {}  \\n * Minimal: {} appears {} times  \\n * Maximal: {} appears {} times  \\n * in average {:.2f} times.  \\n \".format(column, len(count) , name[count.argmin()], count.min(), name[count.argmax()], count.max(), count.mean()))\n",
    "    "
   ]
  },
  {
   "cell_type": "code",
   "execution_count": 4,
   "metadata": {},
   "outputs": [
    {
     "name": "stdout",
     "output_type": "stream",
     "text": [
      "Amount of appearances for Cat1: \n",
      " * unique values 6  \n",
      " * Minimal: grocery gourmet food appears 3617 times  \n",
      " * Maximal: toys games appears 10266 times  \n",
      " * in average 6666.67 times.  \n",
      " \n",
      "Amount of appearances for Cat2: \n",
      " * unique values 64  \n",
      " * Minimal: small animals appears 29 times  \n",
      " * Maximal: personal care appears 2852 times  \n",
      " * in average 625.00 times.  \n",
      " \n",
      "Amount of appearances for Cat3: \n",
      " * unique values 464  \n",
      " * Minimal: aprons smocks appears 1 times  \n",
      " * Maximal: unknown appears 2262 times  \n",
      " * in average 86.21 times.  \n",
      " \n"
     ]
    }
   ],
   "source": [
    "get_info(\"Cat1\")\n",
    "\n",
    "get_info(\"Cat2\")\n",
    "\n",
    "get_info(\"Cat3\")"
   ]
  },
  {
   "cell_type": "code",
   "execution_count": 19,
   "metadata": {},
   "outputs": [
    {
     "data": {
      "image/png": "[encoded data removed]",
      "text/plain": [
       "<Figure size 1440x360 with 4 Axes>"
      ]
     },
     "metadata": {
      "needs_background": "light"
     },
     "output_type": "display_data"
    }
   ],
   "source": [
    "plt.figure(figsize=(20, 5))\n",
    "plt.subplot(1, 4, 1)\n",
    "plot_histo(\"Text\")\n",
    "plt.subplot(1, 4, 2)\n",
    "plot_histo(\"Cat1\")\n",
    "plt.subplot(1, 4, 3)\n",
    "plot_histo(\"Cat2\")\n",
    "plt.subplot(1, 4, 4)\n",
    "plot_histo(\"Cat3\")\n",
    "\n",
    "plt.savefig(\"./visualizations/Data_analysis.svg\", dpi=200, format=\"svg\")\n",
    "plt.show()\n"
   ]
  },
  {
   "cell_type": "code",
   "execution_count": 6,
   "metadata": {},
   "outputs": [],
   "source": [
    "test = pd.read_csv(\"amazon/test.csv\")"
   ]
  },
  {
   "cell_type": "code",
   "execution_count": 7,
   "metadata": {},
   "outputs": [],
   "source": [
    "def plot_histo(column):\n",
    "    text_len=test[column].str.len()\n",
    "    plt.hist(text_len, bins = text_len.max())\n",
    "    plt.xlabel(\"Token length\")\n",
    "    plt.ylabel(\"Amount\")\n",
    "    plt.title(\"Token lenght for {}: \\n Minimal: {} \\n Maximal: {} \\n Average: {:.2f}\".format(column, text_len.min(), text_len.max(), text_len.mean()))\n",
    "\n",
    "def plot_histo_targets(column):\n",
    "    plt.hist(test[column].str.replace(' ', '\\n '), bins = len(pd.Categorical(test[column]).categories)*2, align=\"left\");    \n",
    "    plt.xlabel(\"Label\")\n",
    "    plt.ylabel(\"Amount of appearances\")\n",
    "    name, count = np.unique(test[column], return_index=False, return_inverse=False, return_counts=True, axis=None)\n",
    "    plt.title(\"Amount of appearances for {}: \\n Minimal: {} appears {} times \\n Maximal: {} appears {} times\".format(column, name[count.argmin()], count.min(), name[count.argmax()], count.max()))\n",
    "def get_info(column):\n",
    "    name, count = np.unique(test[column], return_index=False, return_inverse=False, return_counts=True, axis=None)\n",
    "    print(\"Amount of appearances for {}: \\n * unique values {}  \\n * Minimal: {} appears {} times  \\n * Maximal: {} appears {} times  \\n * in average {:.2f} times.  \\n \".format(column, len(count) , name[count.argmin()], count.min(), name[count.argmax()], count.max(), count.mean()))\n",
    "    "
   ]
  },
  {
   "cell_type": "code",
   "execution_count": 8,
   "metadata": {},
   "outputs": [
    {
     "name": "stdout",
     "output_type": "stream",
     "text": [
      "Amount of appearances for Cat1: \n",
      " * unique values 6  \n",
      " * Minimal: baby products appears 698 times  \n",
      " * Maximal: health personal care appears 2992 times  \n",
      " * in average 1666.67 times.  \n",
      " \n",
      "Amount of appearances for Cat2: \n",
      " * unique values 64  \n",
      " * Minimal: baby food appears 2 times  \n",
      " * Maximal: nutrition wellness appears 904 times  \n",
      " * in average 156.25 times.  \n",
      " \n",
      "Amount of appearances for Cat3: \n",
      " * unique values 377  \n",
      " * Minimal: aquarium hoods appears 1 times  \n",
      " * Maximal: vitamins supplements appears 665 times  \n",
      " * in average 26.53 times.  \n",
      " \n"
     ]
    }
   ],
   "source": [
    "get_info(\"Cat1\")\n",
    "\n",
    "get_info(\"Cat2\")\n",
    "\n",
    "get_info(\"Cat3\")"
   ]
  },
  {
   "cell_type": "code",
   "execution_count": 18,
   "metadata": {},
   "outputs": [
    {
     "data": {
      "image/png": "[encoded data removed]",
      "text/plain": [
       "<Figure size 1440x360 with 4 Axes>"
      ]
     },
     "metadata": {
      "needs_background": "light"
     },
     "output_type": "display_data"
    }
   ],
   "source": [
    "plt.figure(figsize=(20, 5))\n",
    "plt.subplot(1, 4, 1)\n",
    "plot_histo(\"Text\")\n",
    "plt.subplot(1, 4, 2)\n",
    "plot_histo(\"Cat1\")\n",
    "plt.subplot(1, 4, 3)\n",
    "plot_histo(\"Cat2\")\n",
    "plt.subplot(1, 4, 4)\n",
    "plot_histo(\"Cat3\")\n",
    "\n",
    "plt.savefig(\"./visualizations/Data_analysis_test.svg\", dpi=200, format=\"svg\")\n",
    "plt.show()"
   ]
  }
 ],
 "metadata": {
  "kernelspec": {
   "display_name": "Python 3",
   "language": "python",
   "name": "python3"
  },
  "language_info": {
   "codemirror_mode": {
    "name": "ipython",
    "version": 3
   },
   "file_extension": ".py",
   "mimetype": "text/x-python",
   "name": "python",
   "nbconvert_exporter": "python",
   "pygments_lexer": "ipython3",
   "version": "3.8.5"
  }
 },
 "nbformat": 4,
 "nbformat_minor": 4
}
