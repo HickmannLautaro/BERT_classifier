{
 "cells": [
  {
   "cell_type": "code",
   "execution_count": 1,
   "metadata": {
    "executionInfo": {
     "elapsed": 3811,
     "status": "ok",
     "timestamp": 1605990471911,
     "user": {
      "displayName": "Lautaro Hickmann",
      "photoUrl": "https://lh3.googleusercontent.com/a-/AOh14GhpnpfV3pwDVltQ1fZd8o2fQLvlZ5wvu2O3-HNK3A=s64",
      "userId": "10165993610530082708"
     },
     "user_tz": -60
    },
    "id": "SkaBphd5jIlX"
   },
   "outputs": [],
   "source": [
    "#######################################\n",
    "### -------- Load libraries ------- ###\n",
    "\n",
    "# Load Huggingface transformers\n",
    "from transformers import TFBertModel,  BertConfig, BertTokenizerFast\n",
    "\n",
    "import tensorflow as tf\n",
    "# Then what you need from tensorflow.keras\n",
    "from tensorflow.keras.layers import Input, Dropout, Dense\n",
    "from tensorflow.keras.models import Model\n",
    "from tensorflow.keras.optimizers import Adam\n",
    "from tensorflow.keras.callbacks import EarlyStopping\n",
    "from tensorflow.keras.initializers import TruncatedNormal\n",
    "from tensorflow.keras.losses import CategoricalCrossentropy\n",
    "from tensorflow.keras.metrics import CategoricalAccuracy\n",
    "from tensorflow.keras.utils import to_categorical\n",
    "from tensorflow.keras.callbacks import ModelCheckpoint\n",
    "# And pandas for data import + sklearn because you allways need sklearn\n",
    "import pandas as pd\n",
    "from sklearn.model_selection import train_test_split\n",
    "\n"
   ]
  },
  {
   "cell_type": "code",
   "execution_count": 2,
   "metadata": {
    "colab": {
     "base_uri": "https://localhost:8080/",
     "height": 204
    },
    "executionInfo": {
     "elapsed": 902,
     "status": "ok",
     "timestamp": 1605990473511,
     "user": {
      "displayName": "Lautaro Hickmann",
      "photoUrl": "https://lh3.googleusercontent.com/a-/AOh14GhpnpfV3pwDVltQ1fZd8o2fQLvlZ5wvu2O3-HNK3A=s64",
      "userId": "10165993610530082708"
     },
     "user_tz": -60
    },
    "id": "2ylPg1GFjaYs",
    "outputId": "ae771864-0358-4541-d37a-fa61bb7f2a98"
   },
   "outputs": [
    {
     "data": {
      "text/html": [
       "<div>\n",
       "<style scoped>\n",
       "    .dataframe tbody tr th:only-of-type {\n",
       "        vertical-align: middle;\n",
       "    }\n",
       "\n",
       "    .dataframe tbody tr th {\n",
       "        vertical-align: top;\n",
       "    }\n",
       "\n",
       "    .dataframe thead th {\n",
       "        text-align: right;\n",
       "    }\n",
       "</style>\n",
       "<table border=\"1\" class=\"dataframe\">\n",
       "  <thead>\n",
       "    <tr style=\"text-align: right;\">\n",
       "      <th></th>\n",
       "      <th>productId</th>\n",
       "      <th>Title</th>\n",
       "      <th>userId</th>\n",
       "      <th>Helpfulness</th>\n",
       "      <th>Score</th>\n",
       "      <th>Time</th>\n",
       "      <th>Text</th>\n",
       "      <th>Cat1</th>\n",
       "      <th>Cat2</th>\n",
       "      <th>Cat3</th>\n",
       "    </tr>\n",
       "  </thead>\n",
       "  <tbody>\n",
       "    <tr>\n",
       "      <th>0</th>\n",
       "      <td>B000E46LYG</td>\n",
       "      <td>Golden Valley Natural Buffalo Jerky</td>\n",
       "      <td>A3MQDNGHDJU4MK</td>\n",
       "      <td>0/0</td>\n",
       "      <td>3.0</td>\n",
       "      <td>-1</td>\n",
       "      <td>The description and photo on this product need...</td>\n",
       "      <td>grocery gourmet food</td>\n",
       "      <td>meat poultry</td>\n",
       "      <td>jerky</td>\n",
       "    </tr>\n",
       "    <tr>\n",
       "      <th>1</th>\n",
       "      <td>B000GRA6N8</td>\n",
       "      <td>Westing Game</td>\n",
       "      <td>unknown</td>\n",
       "      <td>0/0</td>\n",
       "      <td>5.0</td>\n",
       "      <td>860630400</td>\n",
       "      <td>This was a great book!!!! It is well thought t...</td>\n",
       "      <td>toys games</td>\n",
       "      <td>games</td>\n",
       "      <td>unknown</td>\n",
       "    </tr>\n",
       "    <tr>\n",
       "      <th>2</th>\n",
       "      <td>B000GRA6N8</td>\n",
       "      <td>Westing Game</td>\n",
       "      <td>unknown</td>\n",
       "      <td>0/0</td>\n",
       "      <td>5.0</td>\n",
       "      <td>883008000</td>\n",
       "      <td>I am a first year teacher, teaching 5th grade....</td>\n",
       "      <td>toys games</td>\n",
       "      <td>games</td>\n",
       "      <td>unknown</td>\n",
       "    </tr>\n",
       "    <tr>\n",
       "      <th>3</th>\n",
       "      <td>B000GRA6N8</td>\n",
       "      <td>Westing Game</td>\n",
       "      <td>unknown</td>\n",
       "      <td>0/0</td>\n",
       "      <td>5.0</td>\n",
       "      <td>897696000</td>\n",
       "      <td>I got the book at my bookfair at school lookin...</td>\n",
       "      <td>toys games</td>\n",
       "      <td>games</td>\n",
       "      <td>unknown</td>\n",
       "    </tr>\n",
       "    <tr>\n",
       "      <th>4</th>\n",
       "      <td>B00000DMDQ</td>\n",
       "      <td>I SPY A is For Jigsaw Puzzle 63pc</td>\n",
       "      <td>unknown</td>\n",
       "      <td>2/4</td>\n",
       "      <td>5.0</td>\n",
       "      <td>911865600</td>\n",
       "      <td>Hi! I'm Martine Redman and I created this puzz...</td>\n",
       "      <td>toys games</td>\n",
       "      <td>puzzles</td>\n",
       "      <td>jigsaw puzzles</td>\n",
       "    </tr>\n",
       "  </tbody>\n",
       "</table>\n",
       "</div>"
      ],
      "text/plain": [
       "    productId                                Title          userId  \\\n",
       "0  B000E46LYG  Golden Valley Natural Buffalo Jerky  A3MQDNGHDJU4MK   \n",
       "1  B000GRA6N8                         Westing Game         unknown   \n",
       "2  B000GRA6N8                         Westing Game         unknown   \n",
       "3  B000GRA6N8                         Westing Game         unknown   \n",
       "4  B00000DMDQ    I SPY A is For Jigsaw Puzzle 63pc         unknown   \n",
       "\n",
       "  Helpfulness  Score       Time  \\\n",
       "0         0/0    3.0         -1   \n",
       "1         0/0    5.0  860630400   \n",
       "2         0/0    5.0  883008000   \n",
       "3         0/0    5.0  897696000   \n",
       "4         2/4    5.0  911865600   \n",
       "\n",
       "                                                Text                  Cat1  \\\n",
       "0  The description and photo on this product need...  grocery gourmet food   \n",
       "1  This was a great book!!!! It is well thought t...            toys games   \n",
       "2  I am a first year teacher, teaching 5th grade....            toys games   \n",
       "3  I got the book at my bookfair at school lookin...            toys games   \n",
       "4  Hi! I'm Martine Redman and I created this puzz...            toys games   \n",
       "\n",
       "           Cat2            Cat3  \n",
       "0  meat poultry           jerky  \n",
       "1         games         unknown  \n",
       "2         games         unknown  \n",
       "3         games         unknown  \n",
       "4       puzzles  jigsaw puzzles  "
      ]
     },
     "execution_count": 2,
     "metadata": {},
     "output_type": "execute_result"
    }
   ],
   "source": [
    "\n",
    "#######################################\n",
    "### --------- Import data --------- ###\n",
    "\n",
    "# Import data from csv\n",
    "data = pd.read_csv(\"amazon/train.csv\")\n",
    "test = pd.read_csv(\"amazon/test.csv\")\n",
    "\n",
    "data.head()"
   ]
  },
  {
   "cell_type": "code",
   "execution_count": 3,
   "metadata": {
    "executionInfo": {
     "elapsed": 519,
     "status": "ok",
     "timestamp": 1605990476790,
     "user": {
      "displayName": "Lautaro Hickmann",
      "photoUrl": "https://lh3.googleusercontent.com/a-/AOh14GhpnpfV3pwDVltQ1fZd8o2fQLvlZ5wvu2O3-HNK3A=s64",
      "userId": "10165993610530082708"
     },
     "user_tz": -60
    },
    "id": "oYLRjY5EsNGI"
   },
   "outputs": [],
   "source": [
    "\n",
    "# Select required columns\n",
    "data = data[['Text', 'Cat1', 'Cat2']]\n",
    "test = test[['Text', 'Cat1', 'Cat2']]\n",
    "# Remove a row if any of the three remaining columns are missing\n",
    "#data = data.dropna()\n",
    "#test = test.dropna()\n"
   ]
  },
  {
   "cell_type": "code",
   "execution_count": 4,
   "metadata": {
    "colab": {
     "base_uri": "https://localhost:8080/",
     "height": 204
    },
    "executionInfo": {
     "elapsed": 352,
     "status": "ok",
     "timestamp": 1605990477424,
     "user": {
      "displayName": "Lautaro Hickmann",
      "photoUrl": "https://lh3.googleusercontent.com/a-/AOh14GhpnpfV3pwDVltQ1fZd8o2fQLvlZ5wvu2O3-HNK3A=s64",
      "userId": "10165993610530082708"
     },
     "user_tz": -60
    },
    "id": "dEtqlsFFs2In",
    "outputId": "68c6379f-5f04-4bdf-d4b7-bd3798c9da56"
   },
   "outputs": [
    {
     "data": {
      "text/html": [
       "<div>\n",
       "<style scoped>\n",
       "    .dataframe tbody tr th:only-of-type {\n",
       "        vertical-align: middle;\n",
       "    }\n",
       "\n",
       "    .dataframe tbody tr th {\n",
       "        vertical-align: top;\n",
       "    }\n",
       "\n",
       "    .dataframe thead th {\n",
       "        text-align: right;\n",
       "    }\n",
       "</style>\n",
       "<table border=\"1\" class=\"dataframe\">\n",
       "  <thead>\n",
       "    <tr style=\"text-align: right;\">\n",
       "      <th></th>\n",
       "      <th>Text</th>\n",
       "      <th>Cat1</th>\n",
       "      <th>Cat2</th>\n",
       "      <th>Cat1_label</th>\n",
       "      <th>Cat2_label</th>\n",
       "    </tr>\n",
       "  </thead>\n",
       "  <tbody>\n",
       "    <tr>\n",
       "      <th>0</th>\n",
       "      <td>The description and photo on this product need...</td>\n",
       "      <td>2</td>\n",
       "      <td>40</td>\n",
       "      <td>grocery gourmet food</td>\n",
       "      <td>meat poultry</td>\n",
       "    </tr>\n",
       "    <tr>\n",
       "      <th>1</th>\n",
       "      <td>This was a great book!!!! It is well thought t...</td>\n",
       "      <td>5</td>\n",
       "      <td>27</td>\n",
       "      <td>toys games</td>\n",
       "      <td>games</td>\n",
       "    </tr>\n",
       "    <tr>\n",
       "      <th>2</th>\n",
       "      <td>I am a first year teacher, teaching 5th grade....</td>\n",
       "      <td>5</td>\n",
       "      <td>27</td>\n",
       "      <td>toys games</td>\n",
       "      <td>games</td>\n",
       "    </tr>\n",
       "    <tr>\n",
       "      <th>3</th>\n",
       "      <td>I got the book at my bookfair at school lookin...</td>\n",
       "      <td>5</td>\n",
       "      <td>27</td>\n",
       "      <td>toys games</td>\n",
       "      <td>games</td>\n",
       "    </tr>\n",
       "    <tr>\n",
       "      <th>4</th>\n",
       "      <td>Hi! I'm Martine Redman and I created this puzz...</td>\n",
       "      <td>5</td>\n",
       "      <td>51</td>\n",
       "      <td>toys games</td>\n",
       "      <td>puzzles</td>\n",
       "    </tr>\n",
       "  </tbody>\n",
       "</table>\n",
       "</div>"
      ],
      "text/plain": [
       "                                                Text  Cat1  Cat2  \\\n",
       "0  The description and photo on this product need...     2    40   \n",
       "1  This was a great book!!!! It is well thought t...     5    27   \n",
       "2  I am a first year teacher, teaching 5th grade....     5    27   \n",
       "3  I got the book at my bookfair at school lookin...     5    27   \n",
       "4  Hi! I'm Martine Redman and I created this puzz...     5    51   \n",
       "\n",
       "             Cat1_label    Cat2_label  \n",
       "0  grocery gourmet food  meat poultry  \n",
       "1            toys games         games  \n",
       "2            toys games         games  \n",
       "3            toys games         games  \n",
       "4            toys games       puzzles  "
      ]
     },
     "execution_count": 4,
     "metadata": {},
     "output_type": "execute_result"
    }
   ],
   "source": [
    "# Set your model output as categorical and save in new label col\n",
    "data['Cat1_label'] = pd.Categorical(data['Cat1'])\n",
    "data['Cat2_label'] = pd.Categorical(data['Cat2'])\n",
    "\n",
    "# Transform your output to numeric\n",
    "data['Cat1'] = data['Cat1_label'].cat.codes\n",
    "data['Cat2'] = data['Cat2_label'].cat.codes\n",
    "\n",
    "data.head()"
   ]
  },
  {
   "cell_type": "code",
   "execution_count": 5,
   "metadata": {
    "executionInfo": {
     "elapsed": 486,
     "status": "ok",
     "timestamp": 1605990478618,
     "user": {
      "displayName": "Lautaro Hickmann",
      "photoUrl": "https://lh3.googleusercontent.com/a-/AOh14GhpnpfV3pwDVltQ1fZd8o2fQLvlZ5wvu2O3-HNK3A=s64",
      "userId": "10165993610530082708"
     },
     "user_tz": -60
    },
    "id": "P7G-k3oDtOeV"
   },
   "outputs": [],
   "source": [
    "\n",
    "# Split into train and test - stratify over Issue\n",
    "#data, data_test = train_test_split(data, test_size = 0.2, stratify = data[['Cat1']])\n",
    "\n"
   ]
  },
  {
   "cell_type": "code",
   "execution_count": 6,
   "metadata": {
    "colab": {
     "base_uri": "https://localhost:8080/"
    },
    "executionInfo": {
     "elapsed": 8478,
     "status": "ok",
     "timestamp": 1605990487784,
     "user": {
      "displayName": "Lautaro Hickmann",
      "photoUrl": "https://lh3.googleusercontent.com/a-/AOh14GhpnpfV3pwDVltQ1fZd8o2fQLvlZ5wvu2O3-HNK3A=s64",
      "userId": "10165993610530082708"
     },
     "user_tz": -60
    },
    "id": "3Bgjvw6vjcvi",
    "outputId": "01241bf7-244b-4466-84cc-fe6003c22019"
   },
   "outputs": [
    {
     "name": "stderr",
     "output_type": "stream",
     "text": [
      "Some layers from the model checkpoint at bert-base-uncased were not used when initializing TFBertModel: ['mlm___cls', 'nsp___cls']\n",
      "- This IS expected if you are initializing TFBertModel from the checkpoint of a model trained on another task or with another architecture (e.g. initializing a BertForSequenceClassification model from a BertForPreTraining model).\n",
      "- This IS NOT expected if you are initializing TFBertModel from the checkpoint of a model that you expect to be exactly identical (initializing a BertForSequenceClassification model from a BertForSequenceClassification model).\n",
      "All the layers of TFBertModel were initialized from the model checkpoint at bert-base-uncased.\n",
      "If your task is similar to the task the model of the checkpoint was trained on, you can already use TFBertModel for predictions without further training.\n"
     ]
    }
   ],
   "source": [
    "#######################################\n",
    "### --------- Setup BERT ---------- ###\n",
    "\n",
    "# Name of the BERT model to use\n",
    "model_name = 'bert-base-uncased'\n",
    "\n",
    "# Max length of tokens\n",
    "max_length = 100\n",
    "\n",
    "# Load transformers config and set output_hidden_states to False\n",
    "config = BertConfig.from_pretrained(model_name)\n",
    "config.output_hidden_states = False\n",
    "\n",
    "# Load BERT tokenizer\n",
    "tokenizer = BertTokenizerFast.from_pretrained(pretrained_model_name_or_path = model_name, config = config)\n",
    "\n",
    "# Load the Transformers BERT model\n",
    "transformer_model = TFBertModel.from_pretrained(model_name, config = config)"
   ]
  },
  {
   "cell_type": "code",
   "execution_count": 7,
   "metadata": {
    "colab": {
     "base_uri": "https://localhost:8080/"
    },
    "executionInfo": {
     "elapsed": 9886,
     "status": "ok",
     "timestamp": 1605990490734,
     "user": {
      "displayName": "Lautaro Hickmann",
      "photoUrl": "https://lh3.googleusercontent.com/a-/AOh14GhpnpfV3pwDVltQ1fZd8o2fQLvlZ5wvu2O3-HNK3A=s64",
      "userId": "10165993610530082708"
     },
     "user_tz": -60
    },
    "id": "VAK0KYMnsImo",
    "outputId": "9b05f268-8296-4937-fee6-bc40316f9f9d"
   },
   "outputs": [
    {
     "name": "stdout",
     "output_type": "stream",
     "text": [
      "Model: \"BERT_MultiClass_MultiLabel\"\n",
      "__________________________________________________________________________________________________\n",
      "Layer (type)                    Output Shape         Param #     Connected to                     \n",
      "==================================================================================================\n",
      "attention_mask (InputLayer)     [(None, 100)]        0                                            \n",
      "__________________________________________________________________________________________________\n",
      "input_ids (InputLayer)          [(None, 100)]        0                                            \n",
      "__________________________________________________________________________________________________\n",
      "bert (TFBertMainLayer)          ((None, 100, 768), ( 109482240   attention_mask[0][0]             \n",
      "                                                                 input_ids[0][0]                  \n",
      "__________________________________________________________________________________________________\n",
      "pooled_output (Dropout)         (None, 768)          0           bert[0][1]                       \n",
      "__________________________________________________________________________________________________\n",
      "Cat1 (Dense)                    (None, 6)            4614        pooled_output[0][0]              \n",
      "__________________________________________________________________________________________________\n",
      "Cat2 (Dense)                    (None, 64)           49216       pooled_output[0][0]              \n",
      "==================================================================================================\n",
      "Total params: 109,536,070\n",
      "Trainable params: 109,536,070\n",
      "Non-trainable params: 0\n",
      "__________________________________________________________________________________________________\n"
     ]
    }
   ],
   "source": [
    "#######################################\n",
    "### ------- Build the model ------- ###\n",
    "\n",
    "# TF Keras documentation: https://www.tensorflow.org/api_docs/python/tf/keras/Model\n",
    "\n",
    "# Load the MainLayer\n",
    "bert = transformer_model.layers[0]\n",
    "\n",
    "# Build your model input\n",
    "input_ids = Input(shape=(max_length,), name='input_ids', dtype='int32')\n",
    "attention_mask = Input(shape=(max_length,), name='attention_mask', dtype='int32') # Ignores padded part of sentences\n",
    "inputs = {'input_ids': input_ids, 'attention_mask': attention_mask}\n",
    "#inputs = {'input_ids': input_ids}\n",
    "\n",
    "# Load the Transformers BERT model as a layer in a Keras model\n",
    "bert_model = bert(inputs)[1]\n",
    "dropout = Dropout(config.hidden_dropout_prob, name='pooled_output')\n",
    "pooled_output = dropout(bert_model, training=False)\n",
    "\n",
    "# Then build your model output\n",
    "Cat1 = Dense(units=len(data.Cat1_label.value_counts()), kernel_initializer=TruncatedNormal(stddev=config.initializer_range), name='Cat1')(pooled_output)\n",
    "Cat2 = Dense(units=len(data.Cat2_label.value_counts()), kernel_initializer=TruncatedNormal(stddev=config.initializer_range), name='Cat2')(pooled_output)\n",
    "outputs = {'Cat1':Cat1,'Cat2':Cat2 }\n",
    "# And combine it all in a model object\n",
    "model = Model(inputs=inputs, outputs=outputs, name='BERT_MultiClass_MultiLabel')\n",
    "\n",
    "# Take a look at the model\n",
    "model.summary()"
   ]
  },
  {
   "cell_type": "code",
   "execution_count": 8,
   "metadata": {
    "executionInfo": {
     "elapsed": 19346,
     "status": "ok",
     "timestamp": 1605990501370,
     "user": {
      "displayName": "Lautaro Hickmann",
      "photoUrl": "https://lh3.googleusercontent.com/a-/AOh14GhpnpfV3pwDVltQ1fZd8o2fQLvlZ5wvu2O3-HNK3A=s64",
      "userId": "10165993610530082708"
     },
     "user_tz": -60
    },
    "id": "CIpi9FYVjdV1"
   },
   "outputs": [],
   "source": [
    "#######################################\n",
    "### ------- Train the model ------- ###\n",
    "\n",
    "# Set an optimizer\n",
    "optimizer = Adam(\n",
    "    learning_rate=5e-05,\n",
    "    epsilon=1e-08,\n",
    "    decay=0.01,\n",
    "    clipnorm=1.0)\n",
    "\n",
    "# Set loss and metrics\n",
    "loss =  {'Cat1':CategoricalCrossentropy(from_logits = True),'Cat2':CategoricalCrossentropy(from_logits = True) }\n",
    "metric = {'Cat1':CategoricalAccuracy('accuracy'),'Cat2':CategoricalAccuracy('accuracy') }\n",
    "\n",
    "#Checkpoints \n",
    "filepath = \"./chekpoints/Multi_2Cat/chek{epoch:02d}-{Cat1_accuracy:.2f}-{Cat2_accuracy:.2f}\"\n",
    "checkpoint = ModelCheckpoint(filepath, monitor='Cat1_accuracy', verbose=1, save_best_only=False, mode='max')\n",
    "\n",
    "\n",
    "# Compile the model\n",
    "model.compile(\n",
    "    optimizer = optimizer,\n",
    "    loss = loss, \n",
    "    metrics = metric)\n",
    "\n",
    "# Ready output data for the model\n",
    "y_Cat1 = to_categorical(data['Cat1'])\n",
    "y_Cat2 = to_categorical(data['Cat2'])\n",
    "\n",
    "# Tokenize the input (takes some time)\n",
    "x = tokenizer(\n",
    "    text=data['Text'].to_list(),\n",
    "    add_special_tokens=True,\n",
    "    max_length=max_length,\n",
    "    truncation=True,\n",
    "    padding=True, \n",
    "    return_tensors='tf',\n",
    "    return_token_type_ids = False,\n",
    "    return_attention_mask = True,\n",
    "    verbose = True)\n"
   ]
  },
  {
   "cell_type": "code",
   "execution_count": 9,
   "metadata": {
    "colab": {
     "base_uri": "https://localhost:8080/"
    },
    "executionInfo": {
     "elapsed": 11365453,
     "status": "ok",
     "timestamp": 1606001849591,
     "user": {
      "displayName": "Lautaro Hickmann",
      "photoUrl": "https://lh3.googleusercontent.com/a-/AOh14GhpnpfV3pwDVltQ1fZd8o2fQLvlZ5wvu2O3-HNK3A=s64",
      "userId": "10165993610530082708"
     },
     "user_tz": -60
    },
    "id": "mlhKv6gmxOOP",
    "outputId": "fb90eaa1-ee74-47e3-a1f9-899e817729b5"
   },
   "outputs": [
    {
     "name": "stdout",
     "output_type": "stream",
     "text": [
      "Epoch 1/5\n",
      "1231/1231 [==============================] - ETA: 0s - loss: 2.9290 - Cat1_loss: 0.5374 - Cat2_loss: 2.3916 - Cat1_accuracy: 0.8261 - Cat2_accuracy: 0.4095\n",
      "Epoch 00001: saving model to ./chekpoints/Multi_2Cat/chek01-0.83-0.41\n",
      "WARNING:tensorflow:From /home/lautarohickmann/anaconda3/envs/Bert/lib/python3.8/site-packages/tensorflow/python/training/tracking/tracking.py:111: Model.state_updates (from tensorflow.python.keras.engine.training) is deprecated and will be removed in a future version.\n",
      "Instructions for updating:\n",
      "This property should not be used in TensorFlow 2.0, as updates are applied automatically.\n",
      "WARNING:tensorflow:From /home/lautarohickmann/anaconda3/envs/Bert/lib/python3.8/site-packages/tensorflow/python/training/tracking/tracking.py:111: Layer.updates (from tensorflow.python.keras.engine.base_layer) is deprecated and will be removed in a future version.\n",
      "Instructions for updating:\n",
      "This property should not be used in TensorFlow 2.0, as updates are applied automatically.\n",
      "INFO:tensorflow:Assets written to: ./chekpoints/Multi_2Cat/chek01-0.83-0.41/assets\n",
      "1231/1231 [==============================] - 1101s 895ms/step - loss: 2.9290 - Cat1_loss: 0.5374 - Cat2_loss: 2.3916 - Cat1_accuracy: 0.8261 - Cat2_accuracy: 0.4095 - val_loss: 2.4899 - val_Cat1_loss: 0.5285 - val_Cat2_loss: 1.9613 - val_Cat1_accuracy: 0.8298 - val_Cat2_accuracy: 0.5071\n",
      "Epoch 2/5\n",
      "1231/1231 [==============================] - ETA: 0s - loss: 2.1832 - Cat1_loss: 0.3454 - Cat2_loss: 1.8377 - Cat1_accuracy: 0.8920 - Cat2_accuracy: 0.5357\n",
      "Epoch 00002: saving model to ./chekpoints/Multi_2Cat/chek02-0.89-0.54\n",
      "INFO:tensorflow:Assets written to: ./chekpoints/Multi_2Cat/chek02-0.89-0.54/assets\n",
      "1231/1231 [==============================] - 1109s 901ms/step - loss: 2.1832 - Cat1_loss: 0.3454 - Cat2_loss: 1.8377 - Cat1_accuracy: 0.8920 - Cat2_accuracy: 0.5357 - val_loss: 2.3122 - val_Cat1_loss: 0.5014 - val_Cat2_loss: 1.8108 - val_Cat1_accuracy: 0.8405 - val_Cat2_accuracy: 0.5397\n",
      "Epoch 3/5\n",
      "1231/1231 [==============================] - ETA: 0s - loss: 1.9980 - Cat1_loss: 0.3062 - Cat2_loss: 1.6918 - Cat1_accuracy: 0.9053 - Cat2_accuracy: 0.5693\n",
      "Epoch 00003: saving model to ./chekpoints/Multi_2Cat/chek03-0.91-0.57\n",
      "INFO:tensorflow:Assets written to: ./chekpoints/Multi_2Cat/chek03-0.91-0.57/assets\n",
      "1231/1231 [==============================] - 1113s 904ms/step - loss: 1.9980 - Cat1_loss: 0.3062 - Cat2_loss: 1.6918 - Cat1_accuracy: 0.9053 - Cat2_accuracy: 0.5693 - val_loss: 2.2452 - val_Cat1_loss: 0.4997 - val_Cat2_loss: 1.7455 - val_Cat1_accuracy: 0.8410 - val_Cat2_accuracy: 0.5590\n",
      "Epoch 4/5\n",
      "1231/1231 [==============================] - ETA: 0s - loss: 1.8959 - Cat1_loss: 0.2835 - Cat2_loss: 1.6124 - Cat1_accuracy: 0.9142 - Cat2_accuracy: 0.5904\n",
      "Epoch 00004: saving model to ./chekpoints/Multi_2Cat/chek04-0.91-0.59\n",
      "INFO:tensorflow:Assets written to: ./chekpoints/Multi_2Cat/chek04-0.91-0.59/assets\n",
      "1231/1231 [==============================] - 1117s 907ms/step - loss: 1.8959 - Cat1_loss: 0.2835 - Cat2_loss: 1.6124 - Cat1_accuracy: 0.9142 - Cat2_accuracy: 0.5904 - val_loss: 2.2114 - val_Cat1_loss: 0.5031 - val_Cat2_loss: 1.7083 - val_Cat1_accuracy: 0.8429 - val_Cat2_accuracy: 0.5716\n",
      "Epoch 5/5\n",
      "1231/1231 [==============================] - ETA: 0s - loss: 1.8231 - Cat1_loss: 0.2681 - Cat2_loss: 1.5551 - Cat1_accuracy: 0.9192 - Cat2_accuracy: 0.6071\n",
      "Epoch 00005: saving model to ./chekpoints/Multi_2Cat/chek05-0.92-0.61\n",
      "INFO:tensorflow:Assets written to: ./chekpoints/Multi_2Cat/chek05-0.92-0.61/assets\n",
      "1231/1231 [==============================] - 1123s 913ms/step - loss: 1.8231 - Cat1_loss: 0.2681 - Cat2_loss: 1.5551 - Cat1_accuracy: 0.9192 - Cat2_accuracy: 0.6071 - val_loss: 2.1800 - val_Cat1_loss: 0.5010 - val_Cat2_loss: 1.6790 - val_Cat1_accuracy: 0.8445 - val_Cat2_accuracy: 0.5789\n"
     ]
    }
   ],
   "source": [
    "# Fit the model\n",
    "history = model.fit(\n",
    "    x={'input_ids': x['input_ids'], 'attention_mask': x['attention_mask']},\n",
    "    #x={'input_ids': x['input_ids']},\n",
    "    y={'Cat1':y_Cat1,'Cat2':y_Cat2},\n",
    "    validation_split=0.2,\n",
    "    batch_size=26,\n",
    "    epochs=5,\n",
    "    callbacks=[checkpoint]) \n"
   ]
  },
  {
   "cell_type": "code",
   "execution_count": 10,
   "metadata": {
    "colab": {
     "base_uri": "https://localhost:8080/"
    },
    "executionInfo": {
     "elapsed": 11391205,
     "status": "ok",
     "timestamp": 1606001876546,
     "user": {
      "displayName": "Lautaro Hickmann",
      "photoUrl": "https://lh3.googleusercontent.com/a-/AOh14GhpnpfV3pwDVltQ1fZd8o2fQLvlZ5wvu2O3-HNK3A=s64",
      "userId": "10165993610530082708"
     },
     "user_tz": -60
    },
    "id": "AAlV8ode1Btd",
    "outputId": "01a0bbf5-4775-4282-ceaa-712b2c711338"
   },
   "outputs": [
    {
     "name": "stdout",
     "output_type": "stream",
     "text": [
      "INFO:tensorflow:Assets written to: saved_model/Multi_2Cat/assets\n"
     ]
    }
   ],
   "source": [
    "model.save('saved_model/Multi_2Cat')"
   ]
  },
  {
   "cell_type": "code",
   "execution_count": 11,
   "metadata": {},
   "outputs": [],
   "source": [
    "#model=tf.keras.models.load_model('saved_model/Multi_2Cat')"
   ]
  },
  {
   "cell_type": "code",
   "execution_count": 12,
   "metadata": {},
   "outputs": [
    {
     "data": {
      "image/png": "[encoded data removed]",
      "text/plain": [
       "<IPython.core.display.Image object>"
      ]
     },
     "execution_count": 12,
     "metadata": {},
     "output_type": "execute_result"
    }
   ],
   "source": [
    "tf.keras.utils.plot_model(\n",
    "    model,\n",
    "    to_file=\"saved_model/Multi_2Cat/model.png\",\n",
    "    show_shapes=True,\n",
    "    show_layer_names=True,\n",
    "    rankdir=\"TB\",\n",
    "    expand_nested=False,\n",
    "    dpi=96,\n",
    ")\n"
   ]
  },
  {
   "cell_type": "code",
   "execution_count": 13,
   "metadata": {
    "executionInfo": {
     "elapsed": 2246,
     "status": "ok",
     "timestamp": 1606002299404,
     "user": {
      "displayName": "Lautaro Hickmann",
      "photoUrl": "https://lh3.googleusercontent.com/a-/AOh14GhpnpfV3pwDVltQ1fZd8o2fQLvlZ5wvu2O3-HNK3A=s64",
      "userId": "10165993610530082708"
     },
     "user_tz": -60
    },
    "id": "pvoAagrsjeEG"
   },
   "outputs": [],
   "source": [
    "#######################################\n",
    "### ----- Evaluate the model ------ ###\n",
    "# Set your model output as categorical and save in new label col\n",
    "test['Cat1_label'] = pd.Categorical(test['Cat1'])\n",
    "test['Cat2_label'] = pd.Categorical(test['Cat2'])\n"
   ]
  },
  {
   "cell_type": "code",
   "execution_count": 14,
   "metadata": {
    "executionInfo": {
     "elapsed": 2246,
     "status": "ok",
     "timestamp": 1606002299404,
     "user": {
      "displayName": "Lautaro Hickmann",
      "photoUrl": "https://lh3.googleusercontent.com/a-/AOh14GhpnpfV3pwDVltQ1fZd8o2fQLvlZ5wvu2O3-HNK3A=s64",
      "userId": "10165993610530082708"
     },
     "user_tz": -60
    },
    "id": "pvoAagrsjeEG"
   },
   "outputs": [],
   "source": [
    "# Transform your output to numeric\n",
    "test['Cat1'] = test['Cat1_label'].cat.codes\n",
    "test['Cat2'] = test['Cat2_label'].cat.codes\n"
   ]
  },
  {
   "cell_type": "code",
   "execution_count": 15,
   "metadata": {
    "executionInfo": {
     "elapsed": 2246,
     "status": "ok",
     "timestamp": 1606002299404,
     "user": {
      "displayName": "Lautaro Hickmann",
      "photoUrl": "https://lh3.googleusercontent.com/a-/AOh14GhpnpfV3pwDVltQ1fZd8o2fQLvlZ5wvu2O3-HNK3A=s64",
      "userId": "10165993610530082708"
     },
     "user_tz": -60
    },
    "id": "pvoAagrsjeEG"
   },
   "outputs": [],
   "source": [
    "# Ready test data\n",
    "test_y_cat1 = to_categorical(test['Cat1'])\n",
    "test_y_cat2 = to_categorical(test['Cat2'])\n"
   ]
  },
  {
   "cell_type": "code",
   "execution_count": 16,
   "metadata": {
    "executionInfo": {
     "elapsed": 2246,
     "status": "ok",
     "timestamp": 1606002299404,
     "user": {
      "displayName": "Lautaro Hickmann",
      "photoUrl": "https://lh3.googleusercontent.com/a-/AOh14GhpnpfV3pwDVltQ1fZd8o2fQLvlZ5wvu2O3-HNK3A=s64",
      "userId": "10165993610530082708"
     },
     "user_tz": -60
    },
    "id": "pvoAagrsjeEG"
   },
   "outputs": [],
   "source": [
    "test_x = tokenizer(\n",
    "    text=test['Text'].to_list(),\n",
    "    add_special_tokens=True,\n",
    "    max_length=max_length,\n",
    "    truncation=True,\n",
    "    padding=True, \n",
    "    return_tensors='tf',\n",
    "    return_token_type_ids = False,\n",
    "    return_attention_mask = True,\n",
    "    verbose = True)"
   ]
  },
  {
   "cell_type": "code",
   "execution_count": 17,
   "metadata": {
    "colab": {
     "base_uri": "https://localhost:8080/"
    },
    "executionInfo": {
     "elapsed": 228586,
     "status": "ok",
     "timestamp": 1606002531378,
     "user": {
      "displayName": "Lautaro Hickmann",
      "photoUrl": "https://lh3.googleusercontent.com/a-/AOh14GhpnpfV3pwDVltQ1fZd8o2fQLvlZ5wvu2O3-HNK3A=s64",
      "userId": "10165993610530082708"
     },
     "user_tz": -60
    },
    "id": "9rOIUC0YBNei",
    "outputId": "ec80b541-f8df-49e3-c86f-95b209073d3f"
   },
   "outputs": [
    {
     "name": "stdout",
     "output_type": "stream",
     "text": [
      "385/385 [==============================] - 107s 278ms/step - loss: 2.3473 - Cat1_loss: 0.5638 - Cat2_loss: 1.7835 - Cat1_accuracy: 0.8223 - Cat2_accuracy: 0.5404\n"
     ]
    }
   ],
   "source": [
    "# Run evaluation\n",
    "model_eval = model.evaluate(\n",
    "    x={'input_ids': test_x['input_ids'], 'attention_mask': test_x['attention_mask']},\n",
    "    y={'Cat1':test_y_cat1,'Cat2':test_y_cat2 },\n",
    "    batch_size=26)"
   ]
  }
 ],
 "metadata": {
  "accelerator": "GPU",
  "colab": {
   "name": "Classifier_lvl1.ipynb",
   "provenance": []
  },
  "kernelspec": {
   "display_name": "Python 3",
   "language": "python",
   "name": "python3"
  },
  "language_info": {
   "codemirror_mode": {
    "name": "ipython",
    "version": 3
   },
   "file_extension": ".py",
   "mimetype": "text/x-python",
   "name": "python",
   "nbconvert_exporter": "python",
   "pygments_lexer": "ipython3",
   "version": "3.8.5"
  }
 },
 "nbformat": 4,
 "nbformat_minor": 4
}
